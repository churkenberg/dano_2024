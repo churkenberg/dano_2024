{
 "cells": [
  {
   "cell_type": "code",
   "execution_count": 1,
   "metadata": {},
   "outputs": [],
   "source": [
    "import pandas as pd"
   ]
  },
  {
   "cell_type": "code",
   "execution_count": 2,
   "metadata": {},
   "outputs": [],
   "source": [
    "hakaton_nn_1month = pd.read_excel('data/hakaton_nn_1month.xlsx')"
   ]
  },
  {
   "cell_type": "code",
   "execution_count": 3,
   "metadata": {},
   "outputs": [],
   "source": [
    "data = pd.DataFrame(hakaton_nn_1month)"
   ]
  },
  {
   "cell_type": "code",
   "execution_count": 4,
   "metadata": {},
   "outputs": [],
   "source": [
    "pd.set_option('display.max_columns', None)"
   ]
  },
  {
   "cell_type": "code",
   "execution_count": 5,
   "metadata": {},
   "outputs": [
    {
     "data": {
      "text/html": [
       "<div>\n",
       "<style scoped>\n",
       "    .dataframe tbody tr th:only-of-type {\n",
       "        vertical-align: middle;\n",
       "    }\n",
       "\n",
       "    .dataframe tbody tr th {\n",
       "        vertical-align: top;\n",
       "    }\n",
       "\n",
       "    .dataframe thead th {\n",
       "        text-align: right;\n",
       "    }\n",
       "</style>\n",
       "<table border=\"1\" class=\"dataframe\">\n",
       "  <thead>\n",
       "    <tr style=\"text-align: right;\">\n",
       "      <th></th>\n",
       "      <th>party_rk</th>\n",
       "      <th>region</th>\n",
       "      <th>offenceshortstatement</th>\n",
       "      <th>offencedate</th>\n",
       "      <th>offencetime</th>\n",
       "      <th>engine_type</th>\n",
       "      <th>engine_power</th>\n",
       "      <th>body_type</th>\n",
       "      <th>auto_mark</th>\n",
       "      <th>auto_year</th>\n",
       "      <th>auto_model</th>\n",
       "      <th>color</th>\n",
       "      <th>gear_type</th>\n",
       "      <th>car_price</th>\n",
       "      <th>gender_cd</th>\n",
       "      <th>age</th>\n",
       "      <th>marital_status_cd</th>\n",
       "      <th>children_cnt</th>\n",
       "      <th>education_level_cd</th>\n",
       "      <th>person_monthly_income_amt</th>\n",
       "      <th>day_of_week</th>\n",
       "      <th>public_holiday</th>\n",
       "    </tr>\n",
       "  </thead>\n",
       "  <tbody>\n",
       "    <tr>\n",
       "      <th>0</th>\n",
       "      <td>622025641</td>\n",
       "      <td>Москва</td>\n",
       "      <td>Движение по обочине</td>\n",
       "      <td>2024-05-15</td>\n",
       "      <td>09:52:48</td>\n",
       "      <td>1.8</td>\n",
       "      <td>152.00</td>\n",
       "      <td>Универсал (5 дв.)</td>\n",
       "      <td>SKODA</td>\n",
       "      <td>2011.0</td>\n",
       "      <td>OCTAVIA</td>\n",
       "      <td>ЧЕРНЫЙ</td>\n",
       "      <td>Автоматическая</td>\n",
       "      <td>712</td>\n",
       "      <td>M</td>\n",
       "      <td>23.0</td>\n",
       "      <td>UNM</td>\n",
       "      <td>0.0</td>\n",
       "      <td>UGR</td>\n",
       "      <td>80.0</td>\n",
       "      <td>Среда</td>\n",
       "      <td>f</td>\n",
       "    </tr>\n",
       "    <tr>\n",
       "      <th>1</th>\n",
       "      <td>696133759</td>\n",
       "      <td>Воронежская область</td>\n",
       "      <td>Превышение скорости на 40-60 км/ч</td>\n",
       "      <td>2024-05-13</td>\n",
       "      <td>17:54:58</td>\n",
       "      <td>1.6</td>\n",
       "      <td>73.00</td>\n",
       "      <td>Седан (4 дв.)</td>\n",
       "      <td>LADA (ВАЗ)</td>\n",
       "      <td>2011.0</td>\n",
       "      <td>2107</td>\n",
       "      <td>БЕЛЫЙ</td>\n",
       "      <td>Механическая</td>\n",
       "      <td>162</td>\n",
       "      <td>M</td>\n",
       "      <td>19.0</td>\n",
       "      <td>NaN</td>\n",
       "      <td>0.0</td>\n",
       "      <td>NaN</td>\n",
       "      <td>45.0</td>\n",
       "      <td>Понедельник</td>\n",
       "      <td>f</td>\n",
       "    </tr>\n",
       "    <tr>\n",
       "      <th>2</th>\n",
       "      <td>1057242004</td>\n",
       "      <td>Севастополь</td>\n",
       "      <td>Превышение скорости на 20-40 км/ч</td>\n",
       "      <td>2024-05-10</td>\n",
       "      <td>00:29:11</td>\n",
       "      <td>2.5</td>\n",
       "      <td>145.00</td>\n",
       "      <td>Микроавтобус (5 дв.)</td>\n",
       "      <td>HYUNDAI</td>\n",
       "      <td>2018.0</td>\n",
       "      <td>GRAND STAREX</td>\n",
       "      <td>СЕРЫЙ</td>\n",
       "      <td>Автоматическая</td>\n",
       "      <td>2601</td>\n",
       "      <td>M</td>\n",
       "      <td>43.0</td>\n",
       "      <td>NaN</td>\n",
       "      <td>NaN</td>\n",
       "      <td>NaN</td>\n",
       "      <td>500.0</td>\n",
       "      <td>Пятница</td>\n",
       "      <td>t</td>\n",
       "    </tr>\n",
       "    <tr>\n",
       "      <th>3</th>\n",
       "      <td>300624658</td>\n",
       "      <td>Республика Тыва</td>\n",
       "      <td>Превышение скорости на 20-40 км/ч</td>\n",
       "      <td>2024-05-02</td>\n",
       "      <td>21:44:46</td>\n",
       "      <td>2.0</td>\n",
       "      <td>150.00</td>\n",
       "      <td>Седан (4 дв.)</td>\n",
       "      <td>MITSUBISHI</td>\n",
       "      <td>2007.0</td>\n",
       "      <td>LANCER</td>\n",
       "      <td>ЧЕРНЫЙ</td>\n",
       "      <td>Механическая</td>\n",
       "      <td>410</td>\n",
       "      <td>M</td>\n",
       "      <td>27.0</td>\n",
       "      <td>UNM</td>\n",
       "      <td>0.0</td>\n",
       "      <td>SCH</td>\n",
       "      <td>35.0</td>\n",
       "      <td>Четверг</td>\n",
       "      <td>f</td>\n",
       "    </tr>\n",
       "    <tr>\n",
       "      <th>4</th>\n",
       "      <td>702484296</td>\n",
       "      <td>Воронежская область</td>\n",
       "      <td>Превышение скорости на 20-40 км/ч</td>\n",
       "      <td>2024-04-28</td>\n",
       "      <td>16:25:51</td>\n",
       "      <td>2.3</td>\n",
       "      <td>155.00</td>\n",
       "      <td>Универсал (5 дв.)</td>\n",
       "      <td>FORD</td>\n",
       "      <td>2004.0</td>\n",
       "      <td>ESCAPE</td>\n",
       "      <td>КРАСНЫЙ</td>\n",
       "      <td>Автоматическая</td>\n",
       "      <td>617</td>\n",
       "      <td>F</td>\n",
       "      <td>42.0</td>\n",
       "      <td>MAR</td>\n",
       "      <td>0.0</td>\n",
       "      <td>GRD</td>\n",
       "      <td>50.0</td>\n",
       "      <td>Воскресенье</td>\n",
       "      <td>t</td>\n",
       "    </tr>\n",
       "  </tbody>\n",
       "</table>\n",
       "</div>"
      ],
      "text/plain": [
       "     party_rk               region              offenceshortstatement  \\\n",
       "0   622025641               Москва                Движение по обочине   \n",
       "1   696133759  Воронежская область  Превышение скорости на 40-60 км/ч   \n",
       "2  1057242004          Севастополь  Превышение скорости на 20-40 км/ч   \n",
       "3   300624658      Республика Тыва  Превышение скорости на 20-40 км/ч   \n",
       "4   702484296  Воронежская область  Превышение скорости на 20-40 км/ч   \n",
       "\n",
       "  offencedate offencetime engine_type engine_power             body_type  \\\n",
       "0  2024-05-15    09:52:48        1.8        152.00     Универсал (5 дв.)   \n",
       "1  2024-05-13    17:54:58        1.6         73.00         Седан (4 дв.)   \n",
       "2  2024-05-10    00:29:11        2.5        145.00  Микроавтобус (5 дв.)   \n",
       "3  2024-05-02    21:44:46        2.0        150.00         Седан (4 дв.)   \n",
       "4  2024-04-28    16:25:51        2.3        155.00     Универсал (5 дв.)   \n",
       "\n",
       "    auto_mark  auto_year    auto_model    color       gear_type car_price  \\\n",
       "0       SKODA     2011.0       OCTAVIA   ЧЕРНЫЙ  Автоматическая       712   \n",
       "1  LADA (ВАЗ)     2011.0          2107    БЕЛЫЙ    Механическая       162   \n",
       "2     HYUNDAI     2018.0  GRAND STAREX    СЕРЫЙ  Автоматическая      2601   \n",
       "3  MITSUBISHI     2007.0        LANCER   ЧЕРНЫЙ    Механическая       410   \n",
       "4        FORD     2004.0        ESCAPE  КРАСНЫЙ  Автоматическая       617   \n",
       "\n",
       "  gender_cd   age marital_status_cd  children_cnt education_level_cd  \\\n",
       "0         M  23.0               UNM           0.0                UGR   \n",
       "1         M  19.0               NaN           0.0                NaN   \n",
       "2         M  43.0               NaN           NaN                NaN   \n",
       "3         M  27.0               UNM           0.0                SCH   \n",
       "4         F  42.0               MAR           0.0                GRD   \n",
       "\n",
       "   person_monthly_income_amt  day_of_week public_holiday  \n",
       "0                       80.0        Среда              f  \n",
       "1                       45.0  Понедельник              f  \n",
       "2                      500.0      Пятница              t  \n",
       "3                       35.0      Четверг              f  \n",
       "4                       50.0  Воскресенье              t  "
      ]
     },
     "execution_count": 5,
     "metadata": {},
     "output_type": "execute_result"
    }
   ],
   "source": [
    "data.head()"
   ]
  },
  {
   "cell_type": "code",
   "execution_count": 6,
   "metadata": {},
   "outputs": [],
   "source": [
    "data['offencedatetime'] = pd.to_datetime(data['offencedate'].astype(str) + ' ' + data['offencetime'].astype(str), utc=False)"
   ]
  },
  {
   "cell_type": "code",
   "execution_count": 7,
   "metadata": {},
   "outputs": [],
   "source": [
    "data.drop(columns=['offencedate', 'offencetime'], axis=1, inplace=True)"
   ]
  },
  {
   "cell_type": "code",
   "execution_count": 8,
   "metadata": {},
   "outputs": [
    {
     "name": "stdout",
     "output_type": "stream",
     "text": [
      "<class 'pandas.core.frame.DataFrame'>\n",
      "RangeIndex: 97307 entries, 0 to 97306\n",
      "Data columns (total 21 columns):\n",
      " #   Column                     Non-Null Count  Dtype         \n",
      "---  ------                     --------------  -----         \n",
      " 0   party_rk                   97307 non-null  int64         \n",
      " 1   region                     97307 non-null  object        \n",
      " 2   offenceshortstatement      97307 non-null  object        \n",
      " 3   engine_type                97307 non-null  object        \n",
      " 4   engine_power               97302 non-null  object        \n",
      " 5   body_type                  97307 non-null  object        \n",
      " 6   auto_mark                  97307 non-null  object        \n",
      " 7   auto_year                  97306 non-null  float64       \n",
      " 8   auto_model                 97307 non-null  object        \n",
      " 9   color                      97307 non-null  object        \n",
      " 10  gear_type                  97307 non-null  object        \n",
      " 11  car_price                  90869 non-null  object        \n",
      " 12  gender_cd                  97183 non-null  object        \n",
      " 13  age                        97298 non-null  float64       \n",
      " 14  marital_status_cd          75353 non-null  object        \n",
      " 15  children_cnt               85578 non-null  float64       \n",
      " 16  education_level_cd         68007 non-null  object        \n",
      " 17  person_monthly_income_amt  83832 non-null  float64       \n",
      " 18  day_of_week                97307 non-null  object        \n",
      " 19  public_holiday             97307 non-null  object        \n",
      " 20  offencedatetime            97307 non-null  datetime64[ns]\n",
      "dtypes: datetime64[ns](1), float64(4), int64(1), object(15)\n",
      "memory usage: 15.6+ MB\n"
     ]
    }
   ],
   "source": [
    "data.info()"
   ]
  },
  {
   "cell_type": "code",
   "execution_count": 9,
   "metadata": {},
   "outputs": [
    {
     "data": {
      "text/html": [
       "<div>\n",
       "<style scoped>\n",
       "    .dataframe tbody tr th:only-of-type {\n",
       "        vertical-align: middle;\n",
       "    }\n",
       "\n",
       "    .dataframe tbody tr th {\n",
       "        vertical-align: top;\n",
       "    }\n",
       "\n",
       "    .dataframe thead th {\n",
       "        text-align: right;\n",
       "    }\n",
       "</style>\n",
       "<table border=\"1\" class=\"dataframe\">\n",
       "  <thead>\n",
       "    <tr style=\"text-align: right;\">\n",
       "      <th></th>\n",
       "      <th>party_rk</th>\n",
       "      <th>auto_year</th>\n",
       "      <th>age</th>\n",
       "      <th>children_cnt</th>\n",
       "      <th>person_monthly_income_amt</th>\n",
       "      <th>offencedatetime</th>\n",
       "    </tr>\n",
       "  </thead>\n",
       "  <tbody>\n",
       "    <tr>\n",
       "      <th>count</th>\n",
       "      <td>9.730700e+04</td>\n",
       "      <td>97306.000000</td>\n",
       "      <td>97298.000000</td>\n",
       "      <td>85578.000000</td>\n",
       "      <td>8.383200e+04</td>\n",
       "      <td>97307</td>\n",
       "    </tr>\n",
       "    <tr>\n",
       "      <th>mean</th>\n",
       "      <td>5.449173e+08</td>\n",
       "      <td>2013.258545</td>\n",
       "      <td>37.610177</td>\n",
       "      <td>0.158861</td>\n",
       "      <td>1.054343e+04</td>\n",
       "      <td>2024-05-15 22:00:42.481178368</td>\n",
       "    </tr>\n",
       "    <tr>\n",
       "      <th>min</th>\n",
       "      <td>1.180000e+02</td>\n",
       "      <td>1910.000000</td>\n",
       "      <td>4.000000</td>\n",
       "      <td>0.000000</td>\n",
       "      <td>0.000000e+00</td>\n",
       "      <td>2024-04-28 00:01:34</td>\n",
       "    </tr>\n",
       "    <tr>\n",
       "      <th>25%</th>\n",
       "      <td>2.724617e+08</td>\n",
       "      <td>2009.000000</td>\n",
       "      <td>30.000000</td>\n",
       "      <td>0.000000</td>\n",
       "      <td>7.000000e+01</td>\n",
       "      <td>2024-05-08 15:50:05</td>\n",
       "    </tr>\n",
       "    <tr>\n",
       "      <th>50%</th>\n",
       "      <td>5.453081e+08</td>\n",
       "      <td>2013.000000</td>\n",
       "      <td>37.000000</td>\n",
       "      <td>0.000000</td>\n",
       "      <td>1.150000e+02</td>\n",
       "      <td>2024-05-16 18:32:24</td>\n",
       "    </tr>\n",
       "    <tr>\n",
       "      <th>75%</th>\n",
       "      <td>7.856263e+08</td>\n",
       "      <td>2018.000000</td>\n",
       "      <td>44.000000</td>\n",
       "      <td>0.000000</td>\n",
       "      <td>2.000000e+02</td>\n",
       "      <td>2024-05-23 08:05:01.500000</td>\n",
       "    </tr>\n",
       "    <tr>\n",
       "      <th>max</th>\n",
       "      <td>1.228628e+09</td>\n",
       "      <td>2024.000000</td>\n",
       "      <td>88.000000</td>\n",
       "      <td>9.000000</td>\n",
       "      <td>8.691286e+08</td>\n",
       "      <td>2024-05-27 23:59:59</td>\n",
       "    </tr>\n",
       "    <tr>\n",
       "      <th>std</th>\n",
       "      <td>3.076227e+08</td>\n",
       "      <td>6.135811</td>\n",
       "      <td>10.598194</td>\n",
       "      <td>0.532164</td>\n",
       "      <td>3.001781e+06</td>\n",
       "      <td>NaN</td>\n",
       "    </tr>\n",
       "  </tbody>\n",
       "</table>\n",
       "</div>"
      ],
      "text/plain": [
       "           party_rk     auto_year           age  children_cnt  \\\n",
       "count  9.730700e+04  97306.000000  97298.000000  85578.000000   \n",
       "mean   5.449173e+08   2013.258545     37.610177      0.158861   \n",
       "min    1.180000e+02   1910.000000      4.000000      0.000000   \n",
       "25%    2.724617e+08   2009.000000     30.000000      0.000000   \n",
       "50%    5.453081e+08   2013.000000     37.000000      0.000000   \n",
       "75%    7.856263e+08   2018.000000     44.000000      0.000000   \n",
       "max    1.228628e+09   2024.000000     88.000000      9.000000   \n",
       "std    3.076227e+08      6.135811     10.598194      0.532164   \n",
       "\n",
       "       person_monthly_income_amt                offencedatetime  \n",
       "count               8.383200e+04                          97307  \n",
       "mean                1.054343e+04  2024-05-15 22:00:42.481178368  \n",
       "min                 0.000000e+00            2024-04-28 00:01:34  \n",
       "25%                 7.000000e+01            2024-05-08 15:50:05  \n",
       "50%                 1.150000e+02            2024-05-16 18:32:24  \n",
       "75%                 2.000000e+02     2024-05-23 08:05:01.500000  \n",
       "max                 8.691286e+08            2024-05-27 23:59:59  \n",
       "std                 3.001781e+06                            NaN  "
      ]
     },
     "execution_count": 9,
     "metadata": {},
     "output_type": "execute_result"
    }
   ],
   "source": [
    "data.describe()"
   ]
  },
  {
   "cell_type": "markdown",
   "metadata": {},
   "source": [
    "Первым делом преобразовываем числовые переменные, а потом уже строковые"
   ]
  },
  {
   "cell_type": "code",
   "execution_count": 10,
   "metadata": {},
   "outputs": [],
   "source": [
    "data['engine_type'] = data['engine_type'].where(pd.to_numeric(data['engine_type'], errors='coerce').notnull(), None)"
   ]
  },
  {
   "cell_type": "code",
   "execution_count": 11,
   "metadata": {},
   "outputs": [],
   "source": [
    "data.engine_type = data.engine_type.astype(float)"
   ]
  },
  {
   "cell_type": "code",
   "execution_count": 12,
   "metadata": {},
   "outputs": [
    {
     "name": "stderr",
     "output_type": "stream",
     "text": [
      "/tmp/ipykernel_2190/2457929955.py:1: FutureWarning: A value is trying to be set on a copy of a DataFrame or Series through chained assignment using an inplace method.\n",
      "The behavior will change in pandas 3.0. This inplace method will never work because the intermediate object on which we are setting values always behaves as a copy.\n",
      "\n",
      "For example, when doing 'df[col].method(value, inplace=True)', try using 'df.method({col: value}, inplace=True)' or df[col] = df[col].method(value) instead, to perform the operation inplace on the original object.\n",
      "\n",
      "\n",
      "  data.engine_type.fillna(data.engine_type.median(), inplace=True)\n"
     ]
    }
   ],
   "source": [
    "data.engine_type.fillna(data.engine_type.median(), inplace=True)"
   ]
  },
  {
   "cell_type": "code",
   "execution_count": 13,
   "metadata": {},
   "outputs": [],
   "source": [
    "data['engine_power'] = data['engine_power'].where(pd.to_numeric(data['engine_power'], errors='coerce').notnull(), None)"
   ]
  },
  {
   "cell_type": "code",
   "execution_count": 14,
   "metadata": {},
   "outputs": [],
   "source": [
    "data.engine_power = data.engine_power.astype(float)"
   ]
  },
  {
   "cell_type": "code",
   "execution_count": 15,
   "metadata": {},
   "outputs": [
    {
     "data": {
      "text/plain": [
       "array([ True, False])"
      ]
     },
     "execution_count": 15,
     "metadata": {},
     "output_type": "execute_result"
    }
   ],
   "source": [
    "data.engine_power.apply(lambda x: isinstance(x, float) and x.is_integer()).unique()"
   ]
  },
  {
   "cell_type": "code",
   "execution_count": 16,
   "metadata": {},
   "outputs": [
    {
     "name": "stderr",
     "output_type": "stream",
     "text": [
      "/tmp/ipykernel_2190/3920612850.py:1: FutureWarning: A value is trying to be set on a copy of a DataFrame or Series through chained assignment using an inplace method.\n",
      "The behavior will change in pandas 3.0. This inplace method will never work because the intermediate object on which we are setting values always behaves as a copy.\n",
      "\n",
      "For example, when doing 'df[col].method(value, inplace=True)', try using 'df.method({col: value}, inplace=True)' or df[col] = df[col].method(value) instead, to perform the operation inplace on the original object.\n",
      "\n",
      "\n",
      "  data.engine_power.fillna(data.engine_power.median(), inplace=True)\n"
     ]
    }
   ],
   "source": [
    "data.engine_power.fillna(data.engine_power.median(), inplace=True)"
   ]
  },
  {
   "cell_type": "code",
   "execution_count": 17,
   "metadata": {},
   "outputs": [
    {
     "data": {
      "text/plain": [
       "np.int64(0)"
      ]
     },
     "execution_count": 17,
     "metadata": {},
     "output_type": "execute_result"
    }
   ],
   "source": [
    "data.engine_power.isnull().sum()"
   ]
  },
  {
   "cell_type": "code",
   "execution_count": 18,
   "metadata": {},
   "outputs": [
    {
     "data": {
      "text/plain": [
       "array([2011., 2018., 2007., 2004., 2019., 2013., 2016., 2003., 2021.,\n",
       "       2008., 2012., 2010., 2015., 2022., 2020., 2017., 2024., 2014.,\n",
       "       2005., 2006., 1987., 2009., 2023., 2000., 2002., 1999., 1996.,\n",
       "       1998., 2001., 1997., 1988., 1983., 1992., 1993., 1990., 1995.,\n",
       "       1986., 1991., 1994., 1985., 1989., 1984.,   nan, 1982., 1980.,\n",
       "       1910., 1981.])"
      ]
     },
     "execution_count": 18,
     "metadata": {},
     "output_type": "execute_result"
    }
   ],
   "source": [
    "data.auto_year.unique()"
   ]
  },
  {
   "cell_type": "code",
   "execution_count": 19,
   "metadata": {},
   "outputs": [
    {
     "data": {
      "text/plain": [
       "np.int64(1)"
      ]
     },
     "execution_count": 19,
     "metadata": {},
     "output_type": "execute_result"
    }
   ],
   "source": [
    "data.auto_year.isnull().sum()"
   ]
  },
  {
   "cell_type": "code",
   "execution_count": 20,
   "metadata": {},
   "outputs": [],
   "source": [
    "from sklearn.impute import KNNImputer"
   ]
  },
  {
   "cell_type": "code",
   "execution_count": 21,
   "metadata": {},
   "outputs": [],
   "source": [
    "imputer = KNNImputer(n_neighbors=2)\n",
    "data['auto_year'] = imputer.fit_transform(data[['auto_year']])"
   ]
  },
  {
   "cell_type": "code",
   "execution_count": 22,
   "metadata": {},
   "outputs": [
    {
     "data": {
      "text/plain": [
       "array([2011.        , 2018.        , 2007.        , 2004.        ,\n",
       "       2019.        , 2013.        , 2016.        , 2003.        ,\n",
       "       2021.        , 2008.        , 2012.        , 2010.        ,\n",
       "       2015.        , 2022.        , 2020.        , 2017.        ,\n",
       "       2024.        , 2014.        , 2005.        , 2006.        ,\n",
       "       1987.        , 2009.        , 2023.        , 2000.        ,\n",
       "       2002.        , 1999.        , 1996.        , 1998.        ,\n",
       "       2001.        , 1997.        , 1988.        , 1983.        ,\n",
       "       1992.        , 1993.        , 1990.        , 1995.        ,\n",
       "       1986.        , 1991.        , 1994.        , 1985.        ,\n",
       "       1989.        , 1984.        , 2013.25854521, 1982.        ,\n",
       "       1980.        , 1910.        , 1981.        ])"
      ]
     },
     "execution_count": 22,
     "metadata": {},
     "output_type": "execute_result"
    }
   ],
   "source": [
    "data.auto_year.unique()"
   ]
  },
  {
   "cell_type": "code",
   "execution_count": 23,
   "metadata": {},
   "outputs": [],
   "source": [
    "data.auto_year = data.auto_year.astype(int)"
   ]
  },
  {
   "cell_type": "code",
   "execution_count": 24,
   "metadata": {},
   "outputs": [
    {
     "data": {
      "text/plain": [
       "array([2011, 2018, 2007, 2004, 2019, 2013, 2016, 2003, 2021, 2008, 2012,\n",
       "       2010, 2015, 2022, 2020, 2017, 2024, 2014, 2005, 2006, 1987, 2009,\n",
       "       2023, 2000, 2002, 1999, 1996, 1998, 2001, 1997, 1988, 1983, 1992,\n",
       "       1993, 1990, 1995, 1986, 1991, 1994, 1985, 1989, 1984, 1982, 1980,\n",
       "       1910, 1981])"
      ]
     },
     "execution_count": 24,
     "metadata": {},
     "output_type": "execute_result"
    }
   ],
   "source": [
    "data.auto_year.unique()"
   ]
  },
  {
   "cell_type": "code",
   "execution_count": 25,
   "metadata": {},
   "outputs": [],
   "source": [
    "data['car_price'] = pd.to_numeric(data['car_price'], errors='coerce')"
   ]
  },
  {
   "cell_type": "code",
   "execution_count": 26,
   "metadata": {},
   "outputs": [
    {
     "data": {
      "text/plain": [
       "np.int64(6439)"
      ]
     },
     "execution_count": 26,
     "metadata": {},
     "output_type": "execute_result"
    }
   ],
   "source": [
    "data.car_price.isnull().sum()"
   ]
  },
  {
   "cell_type": "code",
   "execution_count": 27,
   "metadata": {},
   "outputs": [
    {
     "name": "stderr",
     "output_type": "stream",
     "text": [
      "/tmp/ipykernel_2190/374695332.py:1: FutureWarning: A value is trying to be set on a copy of a DataFrame or Series through chained assignment using an inplace method.\n",
      "The behavior will change in pandas 3.0. This inplace method will never work because the intermediate object on which we are setting values always behaves as a copy.\n",
      "\n",
      "For example, when doing 'df[col].method(value, inplace=True)', try using 'df.method({col: value}, inplace=True)' or df[col] = df[col].method(value) instead, to perform the operation inplace on the original object.\n",
      "\n",
      "\n",
      "  data.car_price.fillna(data.car_price.median(), inplace=True)\n"
     ]
    }
   ],
   "source": [
    "data.car_price.fillna(data.car_price.median(), inplace=True)"
   ]
  },
  {
   "cell_type": "code",
   "execution_count": 28,
   "metadata": {},
   "outputs": [],
   "source": [
    "data.car_price = data.car_price.astype(int)"
   ]
  },
  {
   "cell_type": "code",
   "execution_count": 29,
   "metadata": {},
   "outputs": [
    {
     "data": {
      "text/plain": [
       "np.int64(9)"
      ]
     },
     "execution_count": 29,
     "metadata": {},
     "output_type": "execute_result"
    }
   ],
   "source": [
    "data.age.isnull().sum()"
   ]
  },
  {
   "cell_type": "code",
   "execution_count": 30,
   "metadata": {},
   "outputs": [
    {
     "name": "stderr",
     "output_type": "stream",
     "text": [
      "/tmp/ipykernel_2190/1727531274.py:1: FutureWarning: A value is trying to be set on a copy of a DataFrame or Series through chained assignment using an inplace method.\n",
      "The behavior will change in pandas 3.0. This inplace method will never work because the intermediate object on which we are setting values always behaves as a copy.\n",
      "\n",
      "For example, when doing 'df[col].method(value, inplace=True)', try using 'df.method({col: value}, inplace=True)' or df[col] = df[col].method(value) instead, to perform the operation inplace on the original object.\n",
      "\n",
      "\n",
      "  data.age.fillna(data.age.median(), inplace=True)\n"
     ]
    }
   ],
   "source": [
    "data.age.fillna(data.age.median(), inplace=True)"
   ]
  },
  {
   "cell_type": "code",
   "execution_count": 31,
   "metadata": {},
   "outputs": [],
   "source": [
    "data.age = data.age.astype(int)"
   ]
  },
  {
   "cell_type": "code",
   "execution_count": 32,
   "metadata": {},
   "outputs": [
    {
     "data": {
      "text/plain": [
       "array([ 0., nan,  1.,  2.,  3.,  5.,  4.,  6.,  7.,  8.,  9.])"
      ]
     },
     "execution_count": 32,
     "metadata": {},
     "output_type": "execute_result"
    }
   ],
   "source": [
    "data.children_cnt.unique()"
   ]
  },
  {
   "cell_type": "code",
   "execution_count": 33,
   "metadata": {},
   "outputs": [],
   "source": [
    "data.children_cnt = imputer.fit_transform(data[['children_cnt']])"
   ]
  },
  {
   "cell_type": "code",
   "execution_count": 34,
   "metadata": {},
   "outputs": [],
   "source": [
    "data.children_cnt = data.children_cnt.astype(int)"
   ]
  },
  {
   "cell_type": "code",
   "execution_count": 35,
   "metadata": {},
   "outputs": [
    {
     "data": {
      "text/plain": [
       "np.int64(13475)"
      ]
     },
     "execution_count": 35,
     "metadata": {},
     "output_type": "execute_result"
    }
   ],
   "source": [
    "data.person_monthly_income_amt.isnull().sum()"
   ]
  },
  {
   "cell_type": "code",
   "execution_count": 36,
   "metadata": {},
   "outputs": [
    {
     "name": "stderr",
     "output_type": "stream",
     "text": [
      "/tmp/ipykernel_2190/3087565678.py:1: FutureWarning: A value is trying to be set on a copy of a DataFrame or Series through chained assignment using an inplace method.\n",
      "The behavior will change in pandas 3.0. This inplace method will never work because the intermediate object on which we are setting values always behaves as a copy.\n",
      "\n",
      "For example, when doing 'df[col].method(value, inplace=True)', try using 'df.method({col: value}, inplace=True)' or df[col] = df[col].method(value) instead, to perform the operation inplace on the original object.\n",
      "\n",
      "\n",
      "  data.person_monthly_income_amt.fillna(data.person_monthly_income_amt.mean(), inplace=True)\n"
     ]
    }
   ],
   "source": [
    "data.person_monthly_income_amt.fillna(data.person_monthly_income_amt.mean(), inplace=True)"
   ]
  },
  {
   "cell_type": "markdown",
   "metadata": {},
   "source": [
    "Теперь приступаем к текстовым и бинарным форматам"
   ]
  },
  {
   "cell_type": "code",
   "execution_count": 37,
   "metadata": {},
   "outputs": [
    {
     "data": {
      "text/plain": [
       "array(['M', 'F', nan, '32'], dtype=object)"
      ]
     },
     "execution_count": 37,
     "metadata": {},
     "output_type": "execute_result"
    }
   ],
   "source": [
    "data.gender_cd.unique()"
   ]
  },
  {
   "cell_type": "code",
   "execution_count": 38,
   "metadata": {},
   "outputs": [],
   "source": [
    "import numpy as np"
   ]
  },
  {
   "cell_type": "code",
   "execution_count": 39,
   "metadata": {},
   "outputs": [],
   "source": [
    "data[data['gender_cd']=='32'] = np.nan"
   ]
  },
  {
   "cell_type": "code",
   "execution_count": 40,
   "metadata": {},
   "outputs": [
    {
     "data": {
      "text/plain": [
       "array(['M', 'F', nan], dtype=object)"
      ]
     },
     "execution_count": 40,
     "metadata": {},
     "output_type": "execute_result"
    }
   ],
   "source": [
    "data.gender_cd.unique()"
   ]
  },
  {
   "cell_type": "code",
   "execution_count": 41,
   "metadata": {},
   "outputs": [
    {
     "name": "stderr",
     "output_type": "stream",
     "text": [
      "/tmp/ipykernel_2190/134446724.py:2: FutureWarning: Downcasting behavior in `replace` is deprecated and will be removed in a future version. To retain the old behavior, explicitly call `result.infer_objects(copy=False)`. To opt-in to the future behavior, set `pd.set_option('future.no_silent_downcasting', True)`\n",
      "  data['gender_cd'] = data['gender_cd'].replace('F', 0)\n"
     ]
    }
   ],
   "source": [
    "data['gender_cd'] = data['gender_cd'].replace('M', 1)\n",
    "data['gender_cd'] = data['gender_cd'].replace('F', 0)\n",
    "#M=1, F=0"
   ]
  },
  {
   "cell_type": "code",
   "execution_count": 42,
   "metadata": {},
   "outputs": [
    {
     "name": "stderr",
     "output_type": "stream",
     "text": [
      "/tmp/ipykernel_2190/783131180.py:1: FutureWarning: A value is trying to be set on a copy of a DataFrame or Series through chained assignment using an inplace method.\n",
      "The behavior will change in pandas 3.0. This inplace method will never work because the intermediate object on which we are setting values always behaves as a copy.\n",
      "\n",
      "For example, when doing 'df[col].method(value, inplace=True)', try using 'df.method({col: value}, inplace=True)' or df[col] = df[col].method(value) instead, to perform the operation inplace on the original object.\n",
      "\n",
      "\n",
      "  data.gender_cd.fillna(data.gender_cd.mean(), inplace=True)\n"
     ]
    }
   ],
   "source": [
    "data.gender_cd.fillna(data.gender_cd.mean(), inplace=True)"
   ]
  },
  {
   "cell_type": "code",
   "execution_count": 43,
   "metadata": {},
   "outputs": [],
   "source": [
    "data.gender_cd = data.gender_cd.astype(int)"
   ]
  },
  {
   "cell_type": "code",
   "execution_count": 44,
   "metadata": {},
   "outputs": [
    {
     "data": {
      "text/plain": [
       "array(['f', 't', nan], dtype=object)"
      ]
     },
     "execution_count": 44,
     "metadata": {},
     "output_type": "execute_result"
    }
   ],
   "source": [
    "data.public_holiday.unique()"
   ]
  },
  {
   "cell_type": "code",
   "execution_count": 45,
   "metadata": {},
   "outputs": [
    {
     "name": "stderr",
     "output_type": "stream",
     "text": [
      "/tmp/ipykernel_2190/3145013189.py:1: FutureWarning: A value is trying to be set on a copy of a DataFrame or Series through chained assignment using an inplace method.\n",
      "The behavior will change in pandas 3.0. This inplace method will never work because the intermediate object on which we are setting values always behaves as a copy.\n",
      "\n",
      "For example, when doing 'df[col].method(value, inplace=True)', try using 'df.method({col: value}, inplace=True)' or df[col] = df[col].method(value) instead, to perform the operation inplace on the original object.\n",
      "\n",
      "\n",
      "  data.public_holiday.replace('f', 1, inplace=True)\n",
      "/tmp/ipykernel_2190/3145013189.py:2: FutureWarning: A value is trying to be set on a copy of a DataFrame or Series through chained assignment using an inplace method.\n",
      "The behavior will change in pandas 3.0. This inplace method will never work because the intermediate object on which we are setting values always behaves as a copy.\n",
      "\n",
      "For example, when doing 'df[col].method(value, inplace=True)', try using 'df.method({col: value}, inplace=True)' or df[col] = df[col].method(value) instead, to perform the operation inplace on the original object.\n",
      "\n",
      "\n",
      "  data.public_holiday.replace('t', 0, inplace=True)\n",
      "/tmp/ipykernel_2190/3145013189.py:2: FutureWarning: Downcasting behavior in `replace` is deprecated and will be removed in a future version. To retain the old behavior, explicitly call `result.infer_objects(copy=False)`. To opt-in to the future behavior, set `pd.set_option('future.no_silent_downcasting', True)`\n",
      "  data.public_holiday.replace('t', 0, inplace=True)\n"
     ]
    }
   ],
   "source": [
    "data.public_holiday.replace('f', 1, inplace=True)\n",
    "data.public_holiday.replace('t', 0, inplace=True)\n",
    "#f=1, t=0"
   ]
  },
  {
   "cell_type": "code",
   "execution_count": 46,
   "metadata": {},
   "outputs": [],
   "source": [
    "data.public_holiday.fillna(data.public_holiday.mean(), inplace=True)"
   ]
  },
  {
   "cell_type": "code",
   "execution_count": 47,
   "metadata": {},
   "outputs": [],
   "source": [
    "data.public_holiday = data.public_holiday.astype(int)"
   ]
  },
  {
   "cell_type": "code",
   "execution_count": 48,
   "metadata": {},
   "outputs": [],
   "source": [
    "data.rename(columns={'public_holiday': 'public_holiday_1-f_0-t', 'gender_cd': 'gender_cd_M-1_F-0'}, inplace=True)"
   ]
  },
  {
   "cell_type": "code",
   "execution_count": 49,
   "metadata": {},
   "outputs": [
    {
     "data": {
      "text/html": [
       "<div>\n",
       "<style scoped>\n",
       "    .dataframe tbody tr th:only-of-type {\n",
       "        vertical-align: middle;\n",
       "    }\n",
       "\n",
       "    .dataframe tbody tr th {\n",
       "        vertical-align: top;\n",
       "    }\n",
       "\n",
       "    .dataframe thead th {\n",
       "        text-align: right;\n",
       "    }\n",
       "</style>\n",
       "<table border=\"1\" class=\"dataframe\">\n",
       "  <thead>\n",
       "    <tr style=\"text-align: right;\">\n",
       "      <th></th>\n",
       "      <th>party_rk</th>\n",
       "      <th>region</th>\n",
       "      <th>offenceshortstatement</th>\n",
       "      <th>engine_type</th>\n",
       "      <th>engine_power</th>\n",
       "      <th>body_type</th>\n",
       "      <th>auto_mark</th>\n",
       "      <th>auto_year</th>\n",
       "      <th>auto_model</th>\n",
       "      <th>color</th>\n",
       "      <th>gear_type</th>\n",
       "      <th>car_price</th>\n",
       "      <th>gender_cd_M-1_F-0</th>\n",
       "      <th>age</th>\n",
       "      <th>marital_status_cd</th>\n",
       "      <th>children_cnt</th>\n",
       "      <th>education_level_cd</th>\n",
       "      <th>person_monthly_income_amt</th>\n",
       "      <th>day_of_week</th>\n",
       "      <th>public_holiday_1-f_0-t</th>\n",
       "      <th>offencedatetime</th>\n",
       "    </tr>\n",
       "  </thead>\n",
       "  <tbody>\n",
       "    <tr>\n",
       "      <th>0</th>\n",
       "      <td>6.220256e+08</td>\n",
       "      <td>Москва</td>\n",
       "      <td>Движение по обочине</td>\n",
       "      <td>1.8</td>\n",
       "      <td>152.0</td>\n",
       "      <td>Универсал (5 дв.)</td>\n",
       "      <td>SKODA</td>\n",
       "      <td>2011.0</td>\n",
       "      <td>OCTAVIA</td>\n",
       "      <td>ЧЕРНЫЙ</td>\n",
       "      <td>Автоматическая</td>\n",
       "      <td>712.0</td>\n",
       "      <td>1</td>\n",
       "      <td>23.0</td>\n",
       "      <td>UNM</td>\n",
       "      <td>0.0</td>\n",
       "      <td>UGR</td>\n",
       "      <td>80.0</td>\n",
       "      <td>Среда</td>\n",
       "      <td>1</td>\n",
       "      <td>2024-05-15 09:52:48</td>\n",
       "    </tr>\n",
       "    <tr>\n",
       "      <th>1</th>\n",
       "      <td>6.961338e+08</td>\n",
       "      <td>Воронежская область</td>\n",
       "      <td>Превышение скорости на 40-60 км/ч</td>\n",
       "      <td>1.6</td>\n",
       "      <td>73.0</td>\n",
       "      <td>Седан (4 дв.)</td>\n",
       "      <td>LADA (ВАЗ)</td>\n",
       "      <td>2011.0</td>\n",
       "      <td>2107</td>\n",
       "      <td>БЕЛЫЙ</td>\n",
       "      <td>Механическая</td>\n",
       "      <td>162.0</td>\n",
       "      <td>1</td>\n",
       "      <td>19.0</td>\n",
       "      <td>NaN</td>\n",
       "      <td>0.0</td>\n",
       "      <td>NaN</td>\n",
       "      <td>45.0</td>\n",
       "      <td>Понедельник</td>\n",
       "      <td>1</td>\n",
       "      <td>2024-05-13 17:54:58</td>\n",
       "    </tr>\n",
       "    <tr>\n",
       "      <th>2</th>\n",
       "      <td>1.057242e+09</td>\n",
       "      <td>Севастополь</td>\n",
       "      <td>Превышение скорости на 20-40 км/ч</td>\n",
       "      <td>2.5</td>\n",
       "      <td>145.0</td>\n",
       "      <td>Микроавтобус (5 дв.)</td>\n",
       "      <td>HYUNDAI</td>\n",
       "      <td>2018.0</td>\n",
       "      <td>GRAND STAREX</td>\n",
       "      <td>СЕРЫЙ</td>\n",
       "      <td>Автоматическая</td>\n",
       "      <td>2601.0</td>\n",
       "      <td>1</td>\n",
       "      <td>43.0</td>\n",
       "      <td>NaN</td>\n",
       "      <td>0.0</td>\n",
       "      <td>NaN</td>\n",
       "      <td>500.0</td>\n",
       "      <td>Пятница</td>\n",
       "      <td>0</td>\n",
       "      <td>2024-05-10 00:29:11</td>\n",
       "    </tr>\n",
       "    <tr>\n",
       "      <th>3</th>\n",
       "      <td>3.006247e+08</td>\n",
       "      <td>Республика Тыва</td>\n",
       "      <td>Превышение скорости на 20-40 км/ч</td>\n",
       "      <td>2.0</td>\n",
       "      <td>150.0</td>\n",
       "      <td>Седан (4 дв.)</td>\n",
       "      <td>MITSUBISHI</td>\n",
       "      <td>2007.0</td>\n",
       "      <td>LANCER</td>\n",
       "      <td>ЧЕРНЫЙ</td>\n",
       "      <td>Механическая</td>\n",
       "      <td>410.0</td>\n",
       "      <td>1</td>\n",
       "      <td>27.0</td>\n",
       "      <td>UNM</td>\n",
       "      <td>0.0</td>\n",
       "      <td>SCH</td>\n",
       "      <td>35.0</td>\n",
       "      <td>Четверг</td>\n",
       "      <td>1</td>\n",
       "      <td>2024-05-02 21:44:46</td>\n",
       "    </tr>\n",
       "    <tr>\n",
       "      <th>4</th>\n",
       "      <td>7.024843e+08</td>\n",
       "      <td>Воронежская область</td>\n",
       "      <td>Превышение скорости на 20-40 км/ч</td>\n",
       "      <td>2.3</td>\n",
       "      <td>155.0</td>\n",
       "      <td>Универсал (5 дв.)</td>\n",
       "      <td>FORD</td>\n",
       "      <td>2004.0</td>\n",
       "      <td>ESCAPE</td>\n",
       "      <td>КРАСНЫЙ</td>\n",
       "      <td>Автоматическая</td>\n",
       "      <td>617.0</td>\n",
       "      <td>0</td>\n",
       "      <td>42.0</td>\n",
       "      <td>MAR</td>\n",
       "      <td>0.0</td>\n",
       "      <td>GRD</td>\n",
       "      <td>50.0</td>\n",
       "      <td>Воскресенье</td>\n",
       "      <td>0</td>\n",
       "      <td>2024-04-28 16:25:51</td>\n",
       "    </tr>\n",
       "  </tbody>\n",
       "</table>\n",
       "</div>"
      ],
      "text/plain": [
       "       party_rk               region              offenceshortstatement  \\\n",
       "0  6.220256e+08               Москва                Движение по обочине   \n",
       "1  6.961338e+08  Воронежская область  Превышение скорости на 40-60 км/ч   \n",
       "2  1.057242e+09          Севастополь  Превышение скорости на 20-40 км/ч   \n",
       "3  3.006247e+08      Республика Тыва  Превышение скорости на 20-40 км/ч   \n",
       "4  7.024843e+08  Воронежская область  Превышение скорости на 20-40 км/ч   \n",
       "\n",
       "   engine_type  engine_power             body_type   auto_mark  auto_year  \\\n",
       "0          1.8         152.0     Универсал (5 дв.)       SKODA     2011.0   \n",
       "1          1.6          73.0         Седан (4 дв.)  LADA (ВАЗ)     2011.0   \n",
       "2          2.5         145.0  Микроавтобус (5 дв.)     HYUNDAI     2018.0   \n",
       "3          2.0         150.0         Седан (4 дв.)  MITSUBISHI     2007.0   \n",
       "4          2.3         155.0     Универсал (5 дв.)        FORD     2004.0   \n",
       "\n",
       "     auto_model    color       gear_type  car_price  gender_cd_M-1_F-0   age  \\\n",
       "0       OCTAVIA   ЧЕРНЫЙ  Автоматическая      712.0                  1  23.0   \n",
       "1          2107    БЕЛЫЙ    Механическая      162.0                  1  19.0   \n",
       "2  GRAND STAREX    СЕРЫЙ  Автоматическая     2601.0                  1  43.0   \n",
       "3        LANCER   ЧЕРНЫЙ    Механическая      410.0                  1  27.0   \n",
       "4        ESCAPE  КРАСНЫЙ  Автоматическая      617.0                  0  42.0   \n",
       "\n",
       "  marital_status_cd  children_cnt education_level_cd  \\\n",
       "0               UNM           0.0                UGR   \n",
       "1               NaN           0.0                NaN   \n",
       "2               NaN           0.0                NaN   \n",
       "3               UNM           0.0                SCH   \n",
       "4               MAR           0.0                GRD   \n",
       "\n",
       "   person_monthly_income_amt  day_of_week  public_holiday_1-f_0-t  \\\n",
       "0                       80.0        Среда                       1   \n",
       "1                       45.0  Понедельник                       1   \n",
       "2                      500.0      Пятница                       0   \n",
       "3                       35.0      Четверг                       1   \n",
       "4                       50.0  Воскресенье                       0   \n",
       "\n",
       "      offencedatetime  \n",
       "0 2024-05-15 09:52:48  \n",
       "1 2024-05-13 17:54:58  \n",
       "2 2024-05-10 00:29:11  \n",
       "3 2024-05-02 21:44:46  \n",
       "4 2024-04-28 16:25:51  "
      ]
     },
     "execution_count": 49,
     "metadata": {},
     "output_type": "execute_result"
    }
   ],
   "source": [
    "data.head()"
   ]
  },
  {
   "cell_type": "code",
   "execution_count": 50,
   "metadata": {},
   "outputs": [
    {
     "name": "stdout",
     "output_type": "stream",
     "text": [
      "<class 'pandas.core.frame.DataFrame'>\n",
      "RangeIndex: 97307 entries, 0 to 97306\n",
      "Data columns (total 21 columns):\n",
      " #   Column                     Non-Null Count  Dtype         \n",
      "---  ------                     --------------  -----         \n",
      " 0   party_rk                   97306 non-null  float64       \n",
      " 1   region                     97306 non-null  object        \n",
      " 2   offenceshortstatement      97306 non-null  object        \n",
      " 3   engine_type                97306 non-null  float64       \n",
      " 4   engine_power               97306 non-null  float64       \n",
      " 5   body_type                  97306 non-null  object        \n",
      " 6   auto_mark                  97306 non-null  object        \n",
      " 7   auto_year                  97306 non-null  float64       \n",
      " 8   auto_model                 97306 non-null  object        \n",
      " 9   color                      97306 non-null  object        \n",
      " 10  gear_type                  97306 non-null  object        \n",
      " 11  car_price                  97306 non-null  float64       \n",
      " 12  gender_cd_M-1_F-0          97307 non-null  int64         \n",
      " 13  age                        97306 non-null  float64       \n",
      " 14  marital_status_cd          75352 non-null  object        \n",
      " 15  children_cnt               97306 non-null  float64       \n",
      " 16  education_level_cd         68006 non-null  object        \n",
      " 17  person_monthly_income_amt  97306 non-null  float64       \n",
      " 18  day_of_week                97306 non-null  object        \n",
      " 19  public_holiday_1-f_0-t     97307 non-null  int64         \n",
      " 20  offencedatetime            97306 non-null  datetime64[ns]\n",
      "dtypes: datetime64[ns](1), float64(8), int64(2), object(10)\n",
      "memory usage: 15.6+ MB\n"
     ]
    }
   ],
   "source": [
    "data.info()"
   ]
  },
  {
   "cell_type": "code",
   "execution_count": 51,
   "metadata": {},
   "outputs": [
    {
     "data": {
      "text/html": [
       "<div>\n",
       "<style scoped>\n",
       "    .dataframe tbody tr th:only-of-type {\n",
       "        vertical-align: middle;\n",
       "    }\n",
       "\n",
       "    .dataframe tbody tr th {\n",
       "        vertical-align: top;\n",
       "    }\n",
       "\n",
       "    .dataframe thead th {\n",
       "        text-align: right;\n",
       "    }\n",
       "</style>\n",
       "<table border=\"1\" class=\"dataframe\">\n",
       "  <thead>\n",
       "    <tr style=\"text-align: right;\">\n",
       "      <th></th>\n",
       "      <th>party_rk</th>\n",
       "      <th>engine_type</th>\n",
       "      <th>engine_power</th>\n",
       "      <th>auto_year</th>\n",
       "      <th>car_price</th>\n",
       "      <th>gender_cd_M-1_F-0</th>\n",
       "      <th>age</th>\n",
       "      <th>children_cnt</th>\n",
       "      <th>person_monthly_income_amt</th>\n",
       "      <th>public_holiday_1-f_0-t</th>\n",
       "      <th>offencedatetime</th>\n",
       "    </tr>\n",
       "  </thead>\n",
       "  <tbody>\n",
       "    <tr>\n",
       "      <th>count</th>\n",
       "      <td>9.730600e+04</td>\n",
       "      <td>97306.000000</td>\n",
       "      <td>97306.000000</td>\n",
       "      <td>97306.000000</td>\n",
       "      <td>97306.000000</td>\n",
       "      <td>97307.000000</td>\n",
       "      <td>97306.000000</td>\n",
       "      <td>97306.000000</td>\n",
       "      <td>9.730600e+04</td>\n",
       "      <td>97307.000000</td>\n",
       "      <td>97306</td>\n",
       "    </tr>\n",
       "    <tr>\n",
       "      <th>mean</th>\n",
       "      <td>5.449193e+08</td>\n",
       "      <td>2.156845</td>\n",
       "      <td>161.532329</td>\n",
       "      <td>2013.258463</td>\n",
       "      <td>1581.552391</td>\n",
       "      <td>0.687299</td>\n",
       "      <td>37.610127</td>\n",
       "      <td>0.139714</td>\n",
       "      <td>1.054343e+04</td>\n",
       "      <td>0.748980</td>\n",
       "      <td>2024-05-15 22:00:41.765831680</td>\n",
       "    </tr>\n",
       "    <tr>\n",
       "      <th>min</th>\n",
       "      <td>1.180000e+02</td>\n",
       "      <td>0.000000</td>\n",
       "      <td>0.000000</td>\n",
       "      <td>1910.000000</td>\n",
       "      <td>46.000000</td>\n",
       "      <td>0.000000</td>\n",
       "      <td>4.000000</td>\n",
       "      <td>0.000000</td>\n",
       "      <td>0.000000e+00</td>\n",
       "      <td>0.000000</td>\n",
       "      <td>2024-04-28 00:01:34</td>\n",
       "    </tr>\n",
       "    <tr>\n",
       "      <th>25%</th>\n",
       "      <td>2.724549e+08</td>\n",
       "      <td>1.600000</td>\n",
       "      <td>107.000000</td>\n",
       "      <td>2009.000000</td>\n",
       "      <td>659.000000</td>\n",
       "      <td>0.000000</td>\n",
       "      <td>30.000000</td>\n",
       "      <td>0.000000</td>\n",
       "      <td>8.000000e+01</td>\n",
       "      <td>0.000000</td>\n",
       "      <td>2024-05-08 15:49:59</td>\n",
       "    </tr>\n",
       "    <tr>\n",
       "      <th>50%</th>\n",
       "      <td>5.453083e+08</td>\n",
       "      <td>1.800000</td>\n",
       "      <td>145.000000</td>\n",
       "      <td>2013.000000</td>\n",
       "      <td>1105.000000</td>\n",
       "      <td>1.000000</td>\n",
       "      <td>37.000000</td>\n",
       "      <td>0.000000</td>\n",
       "      <td>1.400000e+02</td>\n",
       "      <td>1.000000</td>\n",
       "      <td>2024-05-16 18:32:26</td>\n",
       "    </tr>\n",
       "    <tr>\n",
       "      <th>75%</th>\n",
       "      <td>7.856307e+08</td>\n",
       "      <td>2.400000</td>\n",
       "      <td>190.000000</td>\n",
       "      <td>2018.000000</td>\n",
       "      <td>1945.000000</td>\n",
       "      <td>1.000000</td>\n",
       "      <td>44.000000</td>\n",
       "      <td>0.000000</td>\n",
       "      <td>3.000000e+02</td>\n",
       "      <td>1.000000</td>\n",
       "      <td>2024-05-23 08:05:02.750000128</td>\n",
       "    </tr>\n",
       "    <tr>\n",
       "      <th>max</th>\n",
       "      <td>1.228628e+09</td>\n",
       "      <td>999.000000</td>\n",
       "      <td>1770.000000</td>\n",
       "      <td>2024.000000</td>\n",
       "      <td>35470.000000</td>\n",
       "      <td>1.000000</td>\n",
       "      <td>88.000000</td>\n",
       "      <td>9.000000</td>\n",
       "      <td>8.691286e+08</td>\n",
       "      <td>1.000000</td>\n",
       "      <td>2024-05-27 23:59:59</td>\n",
       "    </tr>\n",
       "    <tr>\n",
       "      <th>std</th>\n",
       "      <td>3.076237e+08</td>\n",
       "      <td>8.494550</td>\n",
       "      <td>79.588675</td>\n",
       "      <td>6.135761</td>\n",
       "      <td>1622.693079</td>\n",
       "      <td>0.463596</td>\n",
       "      <td>10.597759</td>\n",
       "      <td>0.501737</td>\n",
       "      <td>2.786210e+06</td>\n",
       "      <td>0.433602</td>\n",
       "      <td>NaN</td>\n",
       "    </tr>\n",
       "  </tbody>\n",
       "</table>\n",
       "</div>"
      ],
      "text/plain": [
       "           party_rk   engine_type  engine_power     auto_year     car_price  \\\n",
       "count  9.730600e+04  97306.000000  97306.000000  97306.000000  97306.000000   \n",
       "mean   5.449193e+08      2.156845    161.532329   2013.258463   1581.552391   \n",
       "min    1.180000e+02      0.000000      0.000000   1910.000000     46.000000   \n",
       "25%    2.724549e+08      1.600000    107.000000   2009.000000    659.000000   \n",
       "50%    5.453083e+08      1.800000    145.000000   2013.000000   1105.000000   \n",
       "75%    7.856307e+08      2.400000    190.000000   2018.000000   1945.000000   \n",
       "max    1.228628e+09    999.000000   1770.000000   2024.000000  35470.000000   \n",
       "std    3.076237e+08      8.494550     79.588675      6.135761   1622.693079   \n",
       "\n",
       "       gender_cd_M-1_F-0           age  children_cnt  \\\n",
       "count       97307.000000  97306.000000  97306.000000   \n",
       "mean            0.687299     37.610127      0.139714   \n",
       "min             0.000000      4.000000      0.000000   \n",
       "25%             0.000000     30.000000      0.000000   \n",
       "50%             1.000000     37.000000      0.000000   \n",
       "75%             1.000000     44.000000      0.000000   \n",
       "max             1.000000     88.000000      9.000000   \n",
       "std             0.463596     10.597759      0.501737   \n",
       "\n",
       "       person_monthly_income_amt  public_holiday_1-f_0-t  \\\n",
       "count               9.730600e+04            97307.000000   \n",
       "mean                1.054343e+04                0.748980   \n",
       "min                 0.000000e+00                0.000000   \n",
       "25%                 8.000000e+01                0.000000   \n",
       "50%                 1.400000e+02                1.000000   \n",
       "75%                 3.000000e+02                1.000000   \n",
       "max                 8.691286e+08                1.000000   \n",
       "std                 2.786210e+06                0.433602   \n",
       "\n",
       "                     offencedatetime  \n",
       "count                          97306  \n",
       "mean   2024-05-15 22:00:41.765831680  \n",
       "min              2024-04-28 00:01:34  \n",
       "25%              2024-05-08 15:49:59  \n",
       "50%              2024-05-16 18:32:26  \n",
       "75%    2024-05-23 08:05:02.750000128  \n",
       "max              2024-05-27 23:59:59  \n",
       "std                              NaN  "
      ]
     },
     "execution_count": 51,
     "metadata": {},
     "output_type": "execute_result"
    }
   ],
   "source": [
    "data.describe()"
   ]
  },
  {
   "cell_type": "code",
   "execution_count": 52,
   "metadata": {},
   "outputs": [],
   "source": [
    "data.to_csv('data/data.csv')"
   ]
  }
 ],
 "metadata": {
  "kernelspec": {
   "display_name": "Python 3",
   "language": "python",
   "name": "python3"
  },
  "language_info": {
   "codemirror_mode": {
    "name": "ipython",
    "version": 3
   },
   "file_extension": ".py",
   "mimetype": "text/x-python",
   "name": "python",
   "nbconvert_exporter": "python",
   "pygments_lexer": "ipython3",
   "version": "3.11.9"
  }
 },
 "nbformat": 4,
 "nbformat_minor": 2
}
